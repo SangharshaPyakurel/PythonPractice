{
 "cells": [
  {
   "cell_type": "code",
   "execution_count": 6,
   "id": "6994ddd9",
   "metadata": {},
   "outputs": [
    {
     "name": "stdout",
     "output_type": "stream",
     "text": [
      "Hello Sangharsha\n",
      "Hello Sangharsha\n",
      "Hello Sangharsha\n"
     ]
    }
   ],
   "source": [
    "print(\"Hello Sangharsha\")\n",
    "print(\"Hello Sangharsha\")\n",
    "print(\"Hello Sangharsha\")\n",
    "# print(\"Hello Sangharsha\")\n",
    "# print(\"Hello Sangharsha\")\n",
    "# print(\"Hello Sangharsha\")\n",
    "# print(\"Hello Sangharsha\")\n",
    "# print(\"Hello Sangharsha\")\n",
    "# print(\"Hello Sangharsha\")\n",
    "# print(\"Hello Sangharsha\")\n"
   ]
  },
  {
   "cell_type": "code",
   "execution_count": 7,
   "id": "069ee0f6",
   "metadata": {},
   "outputs": [
    {
     "name": "stdout",
     "output_type": "stream",
     "text": [
      "4\n"
     ]
    }
   ],
   "source": [
    "#variables in PYthon\n",
    "a = 4\n",
    "print(a)"
   ]
  },
  {
   "cell_type": "code",
   "execution_count": 14,
   "id": "cd457c4c",
   "metadata": {},
   "outputs": [
    {
     "name": "stdout",
     "output_type": "stream",
     "text": [
      "3\n",
      "55\n",
      "6.2\n",
      "True\n",
      "False\n"
     ]
    }
   ],
   "source": [
    "a = 3\n",
    "print(a)\n",
    "b = 55\n",
    "print(b)\n",
    "a = 6.2\n",
    "print(a)\n",
    "c = True #These are bollean\n",
    "print(c)\n",
    "c = False\n",
    "print(c)"
   ]
  },
  {
   "cell_type": "code",
   "execution_count": 16,
   "id": "10a51f2f",
   "metadata": {},
   "outputs": [
    {
     "name": "stdout",
     "output_type": "stream",
     "text": [
      "Harry\n"
     ]
    }
   ],
   "source": [
    "c = \"Harry\"\n",
    "print(c)"
   ]
  },
  {
   "cell_type": "code",
   "execution_count": 18,
   "id": "fc0bd20d",
   "metadata": {},
   "outputs": [
    {
     "name": "stdout",
     "output_type": "stream",
     "text": [
      "None\n"
     ]
    }
   ],
   "source": [
    "e = None #non type datatype\n",
    "print(e)"
   ]
  },
  {
   "cell_type": "code",
   "execution_count": 23,
   "id": "7849aaf1",
   "metadata": {},
   "outputs": [
    {
     "name": "stdout",
     "output_type": "stream",
     "text": [
      "6\n",
      "6\n"
     ]
    }
   ],
   "source": [
    "#typecasting #changing one datatype to another\n",
    "f = \"5\"\n",
    "print(int(f) + 1)\n",
    "g = 5\n",
    "print(g + 1)"
   ]
  },
  {
   "cell_type": "code",
   "execution_count": 25,
   "id": "2ec1a575",
   "metadata": {},
   "outputs": [],
   "source": [
    "#varaibles \n",
    "num1 = 10\n",
    "num2 = 3"
   ]
  },
  {
   "cell_type": "code",
   "execution_count": 31,
   "id": "e0234f43",
   "metadata": {},
   "outputs": [
    {
     "name": "stdout",
     "output_type": "stream",
     "text": [
      "num1 + num2 is  13\n",
      "num1 - num2 is  7\n",
      "num1 * num2 is  30\n",
      "num1 / num2 is  3.3333333333333335\n"
     ]
    }
   ],
   "source": [
    "# Arithmetic Operators\n",
    "print(\"num1 + num2 is \", num1 + num2)\n",
    "print(\"num1 - num2 is \", num1 - num2)\n",
    "print(\"num1 * num2 is \", num1 * num2)\n",
    "print(\"num1 / num2 is \", num1 / num2)"
   ]
  },
  {
   "cell_type": "code",
   "execution_count": 32,
   "id": "4f0cd534",
   "metadata": {},
   "outputs": [],
   "source": [
    "def fun1():\n",
    "    print(3)"
   ]
  },
  {
   "cell_type": "code",
   "execution_count": 35,
   "id": "0634fd6e",
   "metadata": {},
   "outputs": [
    {
     "name": "stdout",
     "output_type": "stream",
     "text": [
      "HARRY\n"
     ]
    }
   ],
   "source": [
    "name = \"HArry\"\n",
    "print(name.upper())"
   ]
  },
  {
   "cell_type": "code",
   "execution_count": 39,
   "id": "7dfe8848",
   "metadata": {},
   "outputs": [
    {
     "name": "stdout",
     "output_type": "stream",
     "text": [
      "HAr\n",
      "Harry\n",
      "0\n"
     ]
    }
   ],
   "source": [
    "print(name[0:3])\n",
    "print(name.capitalize())\n",
    "print(name.count(\"sa\"))"
   ]
  },
  {
   "cell_type": "code",
   "execution_count": 40,
   "id": "06ed94e2",
   "metadata": {},
   "outputs": [
    {
     "name": "stdout",
     "output_type": "stream",
     "text": [
      "Enter Your Name:SAngharsha\n",
      "SAngharsha\n"
     ]
    }
   ],
   "source": [
    "name = input(\"Enter Your Name:\")\n",
    "print(name)"
   ]
  },
  {
   "cell_type": "code",
   "execution_count": 44,
   "id": "e6591824",
   "metadata": {},
   "outputs": [
    {
     "name": "stdout",
     "output_type": "stream",
     "text": [
      "Enter a number:4\n",
      "4\n",
      "<class 'str'>\n",
      "10\n"
     ]
    }
   ],
   "source": [
    "name = input(\"Enter a number:\")\n",
    "print(name)\n",
    "print(type(name))\n",
    "num = print(int(name) + 6)"
   ]
  },
  {
   "cell_type": "code",
   "execution_count": 46,
   "id": "182cdf56",
   "metadata": {},
   "outputs": [
    {
     "name": "stdout",
     "output_type": "stream",
     "text": [
      "<class 'list'>\n"
     ]
    }
   ],
   "source": [
    "# List\n",
    "l1 = [3,3,4,5]\n",
    "print(type(l1))"
   ]
  },
  {
   "cell_type": "code",
   "execution_count": 47,
   "id": "57dbdf8b",
   "metadata": {},
   "outputs": [
    {
     "name": "stdout",
     "output_type": "stream",
     "text": [
      "[2, 5, 3, 4, 12, 5, 'Harry']\n",
      "[2, 5, 3, 4, 12, 5]\n"
     ]
    }
   ],
   "source": [
    "#immutable  string that do no change\n",
    "# List mutable\n",
    "l1 = [2,5,3,4,12,5,\"Harry\"]\n",
    "print(l1)\n",
    "l1.remove(\"Harry\")\n",
    "print(l1)"
   ]
  },
  {
   "cell_type": "code",
   "execution_count": 55,
   "id": "15aa595a",
   "metadata": {},
   "outputs": [
    {
     "name": "stdout",
     "output_type": "stream",
     "text": [
      "[2, 3]\n",
      "[2]\n",
      "[]\n"
     ]
    }
   ],
   "source": [
    "l1.sort()\n",
    "print(l1)\n",
    "l1.pop()\n",
    "print(l1)\n",
    "l1.clear()\n",
    "print(l1)\n",
    " "
   ]
  },
  {
   "cell_type": "code",
   "execution_count": 58,
   "id": "764a857c",
   "metadata": {},
   "outputs": [
    {
     "name": "stdout",
     "output_type": "stream",
     "text": [
      "0\n"
     ]
    }
   ],
   "source": [
    "l1 = (3,5,23,23)\n",
    "print(l1.index(3))\n"
   ]
  },
  {
   "cell_type": "code",
   "execution_count": 59,
   "id": "1ebe800f",
   "metadata": {},
   "outputs": [],
   "source": [
    "# Tuple\n",
    "# immutable\n",
    "# ()\n"
   ]
  },
  {
   "cell_type": "code",
   "execution_count": 60,
   "id": "c05ebb65",
   "metadata": {},
   "outputs": [],
   "source": [
    "# Set nd Set\n",
    "# ->collection of well defined objects"
   ]
  },
  {
   "cell_type": "code",
   "execution_count": 64,
   "id": "41f8460b",
   "metadata": {},
   "outputs": [
    {
     "name": "stdout",
     "output_type": "stream",
     "text": [
      "{2, 4, 5}\n",
      "{3, 5, 6}\n"
     ]
    }
   ],
   "source": [
    "a1 = {1,4,5,2,5,4,5}\n",
    "a2 = {3,5,6}\n",
    "# a1.clear()\n",
    "a1.pop()\n",
    "print(a1)\n",
    "print(a2)"
   ]
  },
  {
   "cell_type": "code",
   "execution_count": 65,
   "id": "d997e268",
   "metadata": {},
   "outputs": [
    {
     "name": "stdout",
     "output_type": "stream",
     "text": [
      "<class 'dict'>\n"
     ]
    }
   ],
   "source": [
    "# Dictionary\n",
    "a = {}\n",
    "b = {}\n",
    "print(type(a))"
   ]
  },
  {
   "cell_type": "code",
   "execution_count": 69,
   "id": "bc755f9a",
   "metadata": {},
   "outputs": [
    {
     "name": "stdout",
     "output_type": "stream",
     "text": [
      "99\n"
     ]
    }
   ],
   "source": [
    "dict1 = {\"Harshit\": 34, \"Sang\": 99,\"Sank\":45, }\n",
    "print(dict1[\"Sang\"])"
   ]
  },
  {
   "cell_type": "code",
   "execution_count": 70,
   "id": "065e08d4",
   "metadata": {},
   "outputs": [
    {
     "name": "stdout",
     "output_type": "stream",
     "text": [
      "Enter your age:45\n",
      "Yes you ca drive\n"
     ]
    }
   ],
   "source": [
    "# if else \n",
    "age = int(input(\"Enter your age:\"))\n",
    "if(age > 18):\n",
    "    print(\"Yes you ca drive\")\n",
    "else:\n",
    "    print(\"No, You can go home\")"
   ]
  },
  {
   "cell_type": "code",
   "execution_count": 71,
   "id": "667d5a70",
   "metadata": {},
   "outputs": [
    {
     "name": "stdout",
     "output_type": "stream",
     "text": [
      "Enter your age:1\n",
      "You are underage\n"
     ]
    }
   ],
   "source": [
    "# if else \n",
    "age = int(input(\"Enter your age:\"))\n",
    "if(age > 18):\n",
    "    print(\"Yes you ca drive\")\n",
    "elif(age == 1):\n",
    "    print(\"You are underage\")\n",
    "else:\n",
    "    print(\"No, You can go home\")"
   ]
  },
  {
   "cell_type": "code",
   "execution_count": 74,
   "id": "56e7ca23",
   "metadata": {},
   "outputs": [
    {
     "name": "stdout",
     "output_type": "stream",
     "text": [
      "Case is 1\n"
     ]
    }
   ],
   "source": [
    "a = 1\n",
    "match a:\n",
    "    case 1:\n",
    "        print(\"Case is 1\")\n",
    "    case 2:\n",
    "        print(\"Case is 2\")"
   ]
  },
  {
   "cell_type": "code",
   "execution_count": 75,
   "id": "39107d0e",
   "metadata": {},
   "outputs": [
    {
     "name": "stdout",
     "output_type": "stream",
     "text": [
      "1\n",
      "2\n",
      "3\n",
      "4\n",
      "5\n"
     ]
    }
   ],
   "source": [
    "for i in range(5):\n",
    "    print(i+1)"
   ]
  },
  {
   "cell_type": "code",
   "execution_count": 76,
   "id": "94272897",
   "metadata": {},
   "outputs": [
    {
     "name": "stdout",
     "output_type": "stream",
     "text": [
      "1\n",
      "34\n",
      "24234\n",
      "4324\n"
     ]
    }
   ],
   "source": [
    "a = [1,34,24234,4324]\n",
    "for item in a:\n",
    "    print(item)"
   ]
  },
  {
   "cell_type": "code",
   "execution_count": 79,
   "id": "01a0998a",
   "metadata": {},
   "outputs": [
    {
     "name": "stdout",
     "output_type": "stream",
     "text": [
      "Executing function..\n",
      "Hello\n",
      "Hello\n",
      "Hello\n",
      "Hello\n",
      "done\n"
     ]
    }
   ],
   "source": [
    "def greetHello():\n",
    "    print(\"Hello\")\n",
    "    print(\"Hello\")\n",
    "    print(\"Hello\")\n",
    "    print(\"Hello\")\n",
    "print(\"Executing function..\")\n",
    "greetHello()\n",
    "print(\"done\")"
   ]
  },
  {
   "cell_type": "code",
   "execution_count": 80,
   "id": "b55b80cc",
   "metadata": {},
   "outputs": [
    {
     "name": "stdout",
     "output_type": "stream",
     "text": [
      "Enter your number:saadfa\n",
      "Some error occured!\n"
     ]
    }
   ],
   "source": [
    "try:\n",
    "    a =int(input(\"Enter your number:\"))\n",
    "    print(a +3)\n",
    "except:\n",
    "    print(\"Some error occured!\")\n"
   ]
  },
  {
   "cell_type": "code",
   "execution_count": 82,
   "id": "5a430b1a",
   "metadata": {},
   "outputs": [
    {
     "name": "stdout",
     "output_type": "stream",
     "text": [
      "Enter your number:sa\n",
      "Some error occured! invalid literal for int() with base 10: 'sa'\n"
     ]
    }
   ],
   "source": [
    "try:\n",
    "    a =int(input(\"Enter your number:\"))\n",
    "    print(a +3)\n",
    "except Exception as e:\n",
    "    print(\"Some error occured!\",e)\n"
   ]
  },
  {
   "cell_type": "code",
   "execution_count": 83,
   "id": "5d9ee408",
   "metadata": {},
   "outputs": [
    {
     "data": {
      "text/plain": [
       "<function TextIOWrapper.close()>"
      ]
     },
     "execution_count": 83,
     "metadata": {},
     "output_type": "execute_result"
    }
   ],
   "source": [
    "# file handling\n",
    "s = \"Sangharsha is a good \"\n",
    "fp = open(\"test.txt\",\"w\")\n",
    "fp.write(s)\n",
    "fp.close"
   ]
  },
  {
   "cell_type": "code",
   "execution_count": 84,
   "id": "23ff58c9",
   "metadata": {},
   "outputs": [
    {
     "ename": "UnsupportedOperation",
     "evalue": "not writable",
     "output_type": "error",
     "traceback": [
      "\u001b[1;31m---------------------------------------------------------------------------\u001b[0m",
      "\u001b[1;31mUnsupportedOperation\u001b[0m                      Traceback (most recent call last)",
      "Cell \u001b[1;32mIn[84], line 4\u001b[0m\n\u001b[0;32m      2\u001b[0m s \u001b[38;5;241m=\u001b[39m \u001b[38;5;124m\"\u001b[39m\u001b[38;5;124mSangharsha is a good \u001b[39m\u001b[38;5;124m\"\u001b[39m\n\u001b[0;32m      3\u001b[0m fp \u001b[38;5;241m=\u001b[39m \u001b[38;5;28mopen\u001b[39m(\u001b[38;5;124m\"\u001b[39m\u001b[38;5;124mtest.txt\u001b[39m\u001b[38;5;124m\"\u001b[39m,\u001b[38;5;124m\"\u001b[39m\u001b[38;5;124mr\u001b[39m\u001b[38;5;124m\"\u001b[39m)\n\u001b[1;32m----> 4\u001b[0m \u001b[43mfp\u001b[49m\u001b[38;5;241;43m.\u001b[39;49m\u001b[43mwrite\u001b[49m\u001b[43m(\u001b[49m\u001b[43ms\u001b[49m\u001b[43m)\u001b[49m\n\u001b[0;32m      5\u001b[0m fp\u001b[38;5;241m.\u001b[39mclose\n",
      "\u001b[1;31mUnsupportedOperation\u001b[0m: not writable"
     ]
    }
   ],
   "source": [
    "# # Reading of file\n",
    "# s = \"Sangharsha is a good \"\n",
    "# fp = open(\"test.txt\",\"r\")\n",
    "# fp.write(s)\n",
    "# fp.close\n"
   ]
  },
  {
   "cell_type": "code",
   "execution_count": 86,
   "id": "992bd8a4",
   "metadata": {},
   "outputs": [
    {
     "name": "stdout",
     "output_type": "stream",
     "text": [
      "89\n"
     ]
    }
   ],
   "source": [
    "# OopS\n",
    "class Employee:\n",
    "    salary = 89\n",
    "    name = \"Rohan\"\n",
    "    def getSalary(self):\n",
    "        return self.salary\n",
    "rohan = Employee()\n",
    "print(rohan.salary)"
   ]
  },
  {
   "cell_type": "code",
   "execution_count": 87,
   "id": "071208e3",
   "metadata": {},
   "outputs": [
    {
     "name": "stdout",
     "output_type": "stream",
     "text": [
      "2343\n",
      "Rohan\n",
      "238843\n",
      "Harry\n"
     ]
    }
   ],
   "source": [
    "class Employee:\n",
    "    def __init__(self, name, salary):\n",
    "        self.name = name\n",
    "        self.salary = salary\n",
    "    def getSalary(self):\n",
    "        return self.salary\n",
    "rohan = Employee(\"Rohan\",\"2343\")\n",
    "print(rohan.salary)\n",
    "print(rohan.name)\n",
    "rohan = Employee(\"Harry\",\"238843\")\n",
    "print(rohan.salary)\n",
    "print(rohan.name)"
   ]
  },
  {
   "cell_type": "code",
   "execution_count": null,
   "id": "cc266d6a",
   "metadata": {},
   "outputs": [],
   "source": []
  }
 ],
 "metadata": {
  "kernelspec": {
   "display_name": "Python 3 (ipykernel)",
   "language": "python",
   "name": "python3"
  },
  "language_info": {
   "codemirror_mode": {
    "name": "ipython",
    "version": 3
   },
   "file_extension": ".py",
   "mimetype": "text/x-python",
   "name": "python",
   "nbconvert_exporter": "python",
   "pygments_lexer": "ipython3",
   "version": "3.10.9"
  }
 },
 "nbformat": 4,
 "nbformat_minor": 5
}
