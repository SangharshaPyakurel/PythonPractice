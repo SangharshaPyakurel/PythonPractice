{
 "cells": [
  {
   "cell_type": "code",
   "execution_count": 3,
   "id": "95b7af93",
   "metadata": {},
   "outputs": [
    {
     "name": "stdout",
     "output_type": "stream",
     "text": [
      "Welcome to Robospeaker 1.1. Created by sagharsha\n",
      "Enter what you want me to pronouncesaasd\n",
      "Enter what you want me to pronouncesasasdsa\n",
      "Enter what you want me to pronouncedsa\n",
      "Enter what you want me to pronouncehow r u\n",
      "Enter what you want me to pronounceq\n"
     ]
    }
   ],
   "source": [
    "import os \n",
    "if __name__ == '__main__':\n",
    "    print(\"Welcome to Robospeaker 1.1. Created by sagharsha\")\n",
    "    while True:\n",
    "        x = input(\"Enter what you want me to pronounce\")\n",
    "        if x == \"q\":\n",
    "            break\n",
    "        command = f\"say {x}\"\n",
    "        os.system(command)"
   ]
  },
  {
   "cell_type": "code",
   "execution_count": null,
   "id": "97d1add7",
   "metadata": {},
   "outputs": [],
   "source": []
  }
 ],
 "metadata": {
  "kernelspec": {
   "display_name": "Python 3 (ipykernel)",
   "language": "python",
   "name": "python3"
  },
  "language_info": {
   "codemirror_mode": {
    "name": "ipython",
    "version": 3
   },
   "file_extension": ".py",
   "mimetype": "text/x-python",
   "name": "python",
   "nbconvert_exporter": "python",
   "pygments_lexer": "ipython3",
   "version": "3.10.9"
  }
 },
 "nbformat": 4,
 "nbformat_minor": 5
}
