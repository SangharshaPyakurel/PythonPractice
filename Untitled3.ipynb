{
 "cells": [
  {
   "cell_type": "code",
   "execution_count": 1,
   "id": "cd483f18",
   "metadata": {},
   "outputs": [],
   "source": [
    "# # Python COllection\n",
    "# list\n",
    "# tuple\n",
    "# dictionary\n",
    "# set"
   ]
  },
  {
   "cell_type": "code",
   "execution_count": 2,
   "id": "2f6a88db",
   "metadata": {},
   "outputs": [],
   "source": [
    "# list \n",
    "#     -Indexed\n",
    "#     -Ordered\n",
    "#     -Multiple Values\n",
    "#     -Mutatblw\n",
    "# define by big braccket []\n"
   ]
  },
  {
   "cell_type": "code",
   "execution_count": 3,
   "id": "d26018a6",
   "metadata": {},
   "outputs": [
    {
     "name": "stdout",
     "output_type": "stream",
     "text": [
      "['Apple', 'ball', 'Cat'] []\n",
      "<class 'list'>\n"
     ]
    }
   ],
   "source": [
    "a = [\"Apple\",\"ball\",\"Cat\"]\n",
    "# empty define garna\n",
    "c = []\n",
    "print(a,c)\n",
    "print(type(a))"
   ]
  },
  {
   "cell_type": "code",
   "execution_count": 4,
   "id": "0bf38266",
   "metadata": {},
   "outputs": [
    {
     "name": "stdout",
     "output_type": "stream",
     "text": [
      "Apple\n"
     ]
    }
   ],
   "source": [
    "# INdexing\n",
    "a = [\"Apple\",\"ball\",\"Cat\"]\n",
    "print(a[0])"
   ]
  },
  {
   "cell_type": "code",
   "execution_count": 5,
   "id": "7687adbd",
   "metadata": {},
   "outputs": [
    {
     "name": "stdout",
     "output_type": "stream",
     "text": [
      "['Apple', 'ball']\n"
     ]
    }
   ],
   "source": [
    "a = [\"Apple\",\"ball\",\"Cat\"]\n",
    "print(a[0:2])"
   ]
  },
  {
   "cell_type": "code",
   "execution_count": 6,
   "id": "f4406067",
   "metadata": {},
   "outputs": [
    {
     "name": "stdout",
     "output_type": "stream",
     "text": [
      "Cat\n"
     ]
    }
   ],
   "source": [
    "a = [\"Apple\",\"ball\",\"Cat\"]\n",
    "print(a[-1])"
   ]
  },
  {
   "cell_type": "code",
   "execution_count": 7,
   "id": "fd517434",
   "metadata": {},
   "outputs": [
    {
     "name": "stdout",
     "output_type": "stream",
     "text": [
      "[1, 3, 5, 7, 9]\n"
     ]
    }
   ],
   "source": [
    "a = [1,2,3,4,5,6,7,8,9,0]\n",
    "print(a[0:9:2])"
   ]
  },
  {
   "cell_type": "code",
   "execution_count": 8,
   "id": "d5c3b9c2",
   "metadata": {},
   "outputs": [
    {
     "name": "stdout",
     "output_type": "stream",
     "text": [
      "['H', 'e', 'l', 'l', 'o', ' ', 'W', 'o', 'r', 'l', 'd']\n"
     ]
    }
   ],
   "source": [
    "a = \"Hello World\"\n",
    "print(list(a))"
   ]
  },
  {
   "cell_type": "code",
   "execution_count": 9,
   "id": "ed5257d8",
   "metadata": {},
   "outputs": [
    {
     "data": {
      "text/plain": [
       "['App', 'Ba']"
      ]
     },
     "execution_count": 9,
     "metadata": {},
     "output_type": "execute_result"
    }
   ],
   "source": [
    "#append\n",
    "a= []\n",
    "a.append(\"App\")\n",
    "a.append(\"Ba\")\n",
    "a"
   ]
  },
  {
   "cell_type": "code",
   "execution_count": 10,
   "id": "a86c0975",
   "metadata": {},
   "outputs": [
    {
     "data": {
      "text/plain": [
       "['apple', 'bat', 'ball', 'cat']"
      ]
     },
     "execution_count": 10,
     "metadata": {},
     "output_type": "execute_result"
    }
   ],
   "source": [
    "# Inssert\n",
    "a = ['apple','ball','cat']\n",
    "a.insert(1,'bat')\n",
    "a"
   ]
  },
  {
   "cell_type": "code",
   "execution_count": null,
   "id": "720404ff",
   "metadata": {},
   "outputs": [],
   "source": []
  }
 ],
 "metadata": {
  "kernelspec": {
   "display_name": "Python 3 (ipykernel)",
   "language": "python",
   "name": "python3"
  },
  "language_info": {
   "codemirror_mode": {
    "name": "ipython",
    "version": 3
   },
   "file_extension": ".py",
   "mimetype": "text/x-python",
   "name": "python",
   "nbconvert_exporter": "python",
   "pygments_lexer": "ipython3",
   "version": "3.10.9"
  }
 },
 "nbformat": 4,
 "nbformat_minor": 5
}
