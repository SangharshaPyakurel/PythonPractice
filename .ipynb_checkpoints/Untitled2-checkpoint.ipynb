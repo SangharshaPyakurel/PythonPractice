{
 "cells": [
  {
   "cell_type": "code",
   "execution_count": 1,
   "id": "d6ff766e",
   "metadata": {},
   "outputs": [
    {
     "name": "stdout",
     "output_type": "stream",
     "text": [
      "Hello World\n"
     ]
    }
   ],
   "source": [
    "print(\"Hello World\")"
   ]
  },
  {
   "cell_type": "code",
   "execution_count": 3,
   "id": "c2c62b18",
   "metadata": {},
   "outputs": [
    {
     "name": "stdout",
     "output_type": "stream",
     "text": [
      "10\n"
     ]
    }
   ],
   "source": [
    "a = 10 # variable\n",
    "print(a)"
   ]
  },
  {
   "cell_type": "code",
   "execution_count": 7,
   "id": "f150b06f",
   "metadata": {},
   "outputs": [
    {
     "name": "stdout",
     "output_type": "stream",
     "text": [
      "10 Hello World 10.4\n",
      "<class 'str'>\n"
     ]
    }
   ],
   "source": [
    "a = \"10\"\n",
    "b = \"Hello World\"\n",
    "c = 10.4\n",
    "print(a,b,c)\n",
    "print(type(a))"
   ]
  },
  {
   "cell_type": "code",
   "execution_count": 8,
   "id": "5fccfc16",
   "metadata": {},
   "outputs": [
    {
     "name": "stdout",
     "output_type": "stream",
     "text": [
      "<class 'str'>\n"
     ]
    }
   ],
   "source": [
    "print(type(a))"
   ]
  },
  {
   "cell_type": "code",
   "execution_count": 9,
   "id": "69b11cf1",
   "metadata": {},
   "outputs": [
    {
     "name": "stdout",
     "output_type": "stream",
     "text": [
      "Enter value = 210\n"
     ]
    }
   ],
   "source": [
    "x = input(\"Enter value = \")"
   ]
  },
  {
   "cell_type": "code",
   "execution_count": 12,
   "id": "12958a5d",
   "metadata": {},
   "outputs": [
    {
     "name": "stdout",
     "output_type": "stream",
     "text": [
      "enter the value of x50\n",
      "Enter the value of y5\n"
     ]
    },
    {
     "data": {
      "text/plain": [
       "'505'"
      ]
     },
     "execution_count": 12,
     "metadata": {},
     "output_type": "execute_result"
    }
   ],
   "source": [
    "x = input(\"enter the value of x\")\n",
    "y = input(\"Enter the value of y\")\n",
    "x+y\n"
   ]
  },
  {
   "cell_type": "code",
   "execution_count": 14,
   "id": "6de0726f",
   "metadata": {},
   "outputs": [
    {
     "name": "stdout",
     "output_type": "stream",
     "text": [
      "Entter the value of p20\n",
      "Enter the vallue of t04\n",
      "float r = 012\n",
      "9.6\n"
     ]
    }
   ],
   "source": [
    "p = float(input(\"Entter the value of p\"))\n",
    "t = float(input(\"Enter the vallue of t\"))\n",
    "r = float(input(\"float r = \"))\n",
    "i = p*t*r/100\n",
    "print(i)"
   ]
  },
  {
   "cell_type": "code",
   "execution_count": 15,
   "id": "94cf9313",
   "metadata": {},
   "outputs": [
    {
     "ename": "SyntaxError",
     "evalue": "invalid syntax (1028265948.py, line 1)",
     "output_type": "error",
     "traceback": [
      "\u001b[1;36m  Cell \u001b[1;32mIn[15], line 1\u001b[1;36m\u001b[0m\n\u001b[1;33m    + - * / % // **\u001b[0m\n\u001b[1;37m        ^\u001b[0m\n\u001b[1;31mSyntaxError\u001b[0m\u001b[1;31m:\u001b[0m invalid syntax\n"
     ]
    }
   ],
   "source": [
    "+ - * / % // **"
   ]
  },
  {
   "cell_type": "code",
   "execution_count": 16,
   "id": "58492bad",
   "metadata": {},
   "outputs": [
    {
     "name": "stdout",
     "output_type": "stream",
     "text": [
      "Hello World\n"
     ]
    }
   ],
   "source": [
    "## functions\n",
    "def hello_world():\n",
    "    print(\"Hello World\")\n",
    "hello_world()\n"
   ]
  },
  {
   "cell_type": "code",
   "execution_count": 17,
   "id": "2fb51f93",
   "metadata": {},
   "outputs": [
    {
     "ename": "SyntaxError",
     "evalue": "invalid syntax (1032675026.py, line 1)",
     "output_type": "error",
     "traceback": [
      "\u001b[1;36m  Cell \u001b[1;32mIn[17], line 1\u001b[1;36m\u001b[0m\n\u001b[1;33m    def <function_name>():\u001b[0m\n\u001b[1;37m        ^\u001b[0m\n\u001b[1;31mSyntaxError\u001b[0m\u001b[1;31m:\u001b[0m invalid syntax\n"
     ]
    }
   ],
   "source": [
    "def <function_name>():\n",
    "    print(\"Hello \")\n",
    "<function_name call>()"
   ]
  },
  {
   "cell_type": "code",
   "execution_count": 18,
   "id": "37302561",
   "metadata": {},
   "outputs": [
    {
     "name": "stdout",
     "output_type": "stream",
     "text": [
      "Volume =  105\n"
     ]
    }
   ],
   "source": [
    "def cal():\n",
    "    l = 3 #local variable kunai pani variable funcion vitra define vayo vaney local varaiable vanxa\n",
    "    b = 5\n",
    "    h = 7\n",
    "    v = l*b*h\n",
    "    print(\"Volume = \",v)\n",
    "cal()"
   ]
  },
  {
   "cell_type": "code",
   "execution_count": 19,
   "id": "e8baa986",
   "metadata": {},
   "outputs": [
    {
     "name": "stdout",
     "output_type": "stream",
     "text": [
      "Volume =  105\n",
      "3\n"
     ]
    }
   ],
   "source": [
    "l = 3 #global variable\n",
    "def cal():\n",
    "    b = 5\n",
    "    h = 7\n",
    "    v = l*b*h\n",
    "    print(\"Volume = \",v)\n",
    "cal()\n",
    "print(l)"
   ]
  },
  {
   "cell_type": "code",
   "execution_count": 20,
   "id": "1fd89530",
   "metadata": {},
   "outputs": [
    {
     "name": "stdout",
     "output_type": "stream",
     "text": [
      "Volume =  105\n",
      "3\n"
     ]
    }
   ],
   "source": [
    "# to convert loval into global\n",
    "def cal():\n",
    "    global l\n",
    "    l = 3 #global variable\n",
    "    b = 5\n",
    "    h = 7\n",
    "    v = l*b*h\n",
    "    print(\"Volume = \",v)\n",
    "cal()\n",
    "print(l)"
   ]
  },
  {
   "cell_type": "code",
   "execution_count": 1,
   "id": "64c821d8",
   "metadata": {},
   "outputs": [
    {
     "name": "stdout",
     "output_type": "stream",
     "text": [
      "Enter the Value of l = 4\n",
      "Enter the value of b = 5\n",
      "Enter the value of h = 2\n",
      "Area is =  20\n",
      "Volume is =  40\n"
     ]
    }
   ],
   "source": [
    "# two or more than two function vayo vaney #globally\n",
    "l = int(input(\"Enter the Value of l = \"))\n",
    "b = int(input(\"Enter the value of b = \"))\n",
    "h = int(input(\"Enter the value of h = \"))\n",
    "def volume():\n",
    "    v = l*b*h\n",
    "    print(\"Volume is = \",v)\n",
    "def area():\n",
    "    a = l*b;\n",
    "    print(\"Area is = \",a)\n",
    "area()\n",
    "volume()"
   ]
  },
  {
   "cell_type": "code",
   "execution_count": 2,
   "id": "4e5394a9",
   "metadata": {},
   "outputs": [
    {
     "name": "stdout",
     "output_type": "stream",
     "text": [
      "Enter the Value of l = 5\n",
      "Enter the value of b = 5\n",
      "Area is =  25\n",
      "Enter the Value of l = 6\n",
      "Enter the value of b = 8\n",
      "Enter the value of h = 5\n",
      "Volume is =  240\n"
     ]
    }
   ],
   "source": [
    "# two or more than two function vayo vaney\n",
    "def volume():\n",
    "    l = int(input(\"Enter the Value of l = \"))\n",
    "    b = int(input(\"Enter the value of b = \"))\n",
    "    h = int(input(\"Enter the value of h = \"))\n",
    "    v = l*b*h\n",
    "    print(\"Volume is = \",v)\n",
    "def area():\n",
    "    l = int(input(\"Enter the Value of l = \"))\n",
    "    b = int(input(\"Enter the value of b = \"))\n",
    "    a = l*b;\n",
    "    print(\"Area is = \",a)\n",
    "area()\n",
    "volume()"
   ]
  },
  {
   "cell_type": "code",
   "execution_count": 3,
   "id": "64426288",
   "metadata": {},
   "outputs": [],
   "source": [
    "# function with no argument and no return type\n",
    "# function with argument and no return type\n",
    "# function with no argument and return type\n",
    "# function with argument and return type\n",
    "\n",
    "\n",
    "\n"
   ]
  },
  {
   "cell_type": "code",
   "execution_count": 5,
   "id": "25822ea2",
   "metadata": {},
   "outputs": [
    {
     "name": "stdout",
     "output_type": "stream",
     "text": [
      "Volume is =  108\n"
     ]
    }
   ],
   "source": [
    "# function with arguments and no return type\n",
    "def cal(l,b,h):\n",
    "    v = l*b*h\n",
    "    print(\"Volume is = \",v)\n",
    "    \n",
    "l=3\n",
    "b=4\n",
    "h=9\n",
    "cal(l,b,h)"
   ]
  },
  {
   "cell_type": "code",
   "execution_count": 6,
   "id": "b56ecba1",
   "metadata": {},
   "outputs": [
    {
     "name": "stdout",
     "output_type": "stream",
     "text": [
      "Volume is =  108\n"
     ]
    }
   ],
   "source": [
    "def cal(x,y,z): #arguments\n",
    "    v = x*y*z # mamthi ko x,y,z ko value use garxa\n",
    "    print(\"Volume is = \",v)\n",
    "    \n",
    "l=3\n",
    "b=4\n",
    "h=9\n",
    "cal(l,b,h) #parameter\n"
   ]
  },
  {
   "cell_type": "code",
   "execution_count": 7,
   "id": "9ac2c00e",
   "metadata": {},
   "outputs": [
    {
     "name": "stdout",
     "output_type": "stream",
     "text": [
      "Volume is  108\n"
     ]
    }
   ],
   "source": [
    "# Array is denoted by []\n",
    "def cal(a):\n",
    "    x,y,z = a\n",
    "    v = x*y*z\n",
    "    print(\"Volume is \",v)\n",
    "l=3\n",
    "b=4\n",
    "h=9\n",
    "a = [l,b,h]\n",
    "cal(a)"
   ]
  },
  {
   "cell_type": "code",
   "execution_count": 10,
   "id": "a83f37f1",
   "metadata": {},
   "outputs": [
    {
     "name": "stdout",
     "output_type": "stream",
     "text": [
      "Enter the Value of l = 5\n",
      "Enter the value of b = 5\n"
     ]
    },
    {
     "data": {
      "text/plain": [
       "25"
      ]
     },
     "execution_count": 10,
     "metadata": {},
     "output_type": "execute_result"
    }
   ],
   "source": [
    "# function with no argument and return type\n",
    "l = int(input(\"Enter the Value of l = \"))\n",
    "b = int(input(\"Enter the value of b = \"))\n",
    "def area():\n",
    "    a = l*b\n",
    "    return a\n",
    "area()"
   ]
  },
  {
   "cell_type": "code",
   "execution_count": 11,
   "id": "1babd804",
   "metadata": {},
   "outputs": [
    {
     "name": "stdout",
     "output_type": "stream",
     "text": [
      "Enter the Value of l = 5\n",
      "Enter the value of b = 5\n",
      "Enter the value of h = 5\n"
     ]
    }
   ],
   "source": [
    "l = int(input(\"Enter the Value of l = \"))\n",
    "b = int(input(\"Enter the value of b = \"))\n",
    "h = int(input(\"Enter the value of h = \"))\n",
    "def area():\n",
    "    a = l*b\n",
    "    return a\n",
    "x = area()\n",
    "v = x * h"
   ]
  },
  {
   "cell_type": "code",
   "execution_count": 13,
   "id": "73769a45",
   "metadata": {},
   "outputs": [
    {
     "name": "stdout",
     "output_type": "stream",
     "text": [
      "1 Hello\n",
      "3 Hello\n",
      "5 Hello\n",
      "7 Hello\n",
      "9 Hello\n"
     ]
    }
   ],
   "source": [
    "for i in range(1,10,2):\n",
    "    print(i,\"Hello\")"
   ]
  },
  {
   "cell_type": "code",
   "execution_count": null,
   "id": "8bac26c7",
   "metadata": {},
   "outputs": [],
   "source": [
    "bill = \"\"\n",
    "n = int(input(\"ENter n = \"))\n",
    "for i in range(n):\n",
    "    product = input(\"ENter product name = \")\n",
    "    price = int(input(\"Enter Price = \"))\n",
    "    quantity = int(input(\"Enter quantity = \"))\n",
    "    total = price*quantity\n",
    "    bill = bill + f\"{product} {price} {quantity} {total}\""
   ]
  },
  {
   "cell_type": "code",
   "execution_count": null,
   "id": "e04a7d83",
   "metadata": {},
   "outputs": [],
   "source": []
  },
  {
   "cell_type": "code",
   "execution_count": 7,
   "id": "25f11101",
   "metadata": {},
   "outputs": [
    {
     "name": "stdout",
     "output_type": "stream",
     "text": [
      "The file is already there\n"
     ]
    }
   ],
   "source": [
    "try:\n",
    "    file = open('sanghe.txt','x')\n",
    "    file.close\n",
    "except:\n",
    "    print(\"The file is already there\")"
   ]
  },
  {
   "cell_type": "code",
   "execution_count": 11,
   "id": "b1dfec9a",
   "metadata": {},
   "outputs": [
    {
     "name": "stdout",
     "output_type": "stream",
     "text": [
      "1.SAnghaw\n",
      "1.SAnghaw\n",
      "1.SAnghaw\n",
      "1.SAnghaw\n",
      "1.SAnghaw\n",
      "1.SAnghaw\n",
      "1.SAnghaw\n",
      "1.SAnghaw\n"
     ]
    }
   ],
   "source": [
    "file = open('sanghe.txt','r')\n",
    "x = file.read()\n",
    "print(x)\n",
    "file.close()"
   ]
  },
  {
   "cell_type": "code",
   "execution_count": 12,
   "id": "c8593194",
   "metadata": {},
   "outputs": [
    {
     "name": "stdout",
     "output_type": "stream",
     "text": [
      "1.SAnghaw\n",
      "1.SAnghaw\n",
      "1.SAnghaw\n",
      "1.SAnghaw\n",
      "1.SAnghaw\n",
      "1.SAnghaw\n",
      "1.SAnghaw\n",
      "1.SAnghaw\n",
      "<class 'str'>\n"
     ]
    }
   ],
   "source": [
    "file = open('sanghe.txt','r')\n",
    "x = file.read()\n",
    "print(x)\n",
    "print(type(x))\n",
    "file.close()"
   ]
  },
  {
   "cell_type": "code",
   "execution_count": null,
   "id": "aed240c0",
   "metadata": {},
   "outputs": [],
   "source": []
  },
  {
   "cell_type": "code",
   "execution_count": 3,
   "id": "395d494d",
   "metadata": {},
   "outputs": [],
   "source": [
    "#csv\n",
    "try:\n",
    "    file = open('sanghe.csv','x')\n",
    "except:\n",
    "    pass"
   ]
  },
  {
   "cell_type": "code",
   "execution_count": 7,
   "id": "aa0af5fb",
   "metadata": {},
   "outputs": [
    {
     "data": {
      "text/html": [
       "<div>\n",
       "<style scoped>\n",
       "    .dataframe tbody tr th:only-of-type {\n",
       "        vertical-align: middle;\n",
       "    }\n",
       "\n",
       "    .dataframe tbody tr th {\n",
       "        vertical-align: top;\n",
       "    }\n",
       "\n",
       "    .dataframe thead th {\n",
       "        text-align: right;\n",
       "    }\n",
       "</style>\n",
       "<table border=\"1\" class=\"dataframe\">\n",
       "  <thead>\n",
       "    <tr style=\"text-align: right;\">\n",
       "      <th></th>\n",
       "      <th>sn</th>\n",
       "      <th>name</th>\n",
       "      <th>age</th>\n",
       "      <th>add</th>\n",
       "      <th>phone</th>\n",
       "    </tr>\n",
       "  </thead>\n",
       "  <tbody>\n",
       "    <tr>\n",
       "      <th>0</th>\n",
       "      <td>1</td>\n",
       "      <td>Sangharsha</td>\n",
       "      <td>22</td>\n",
       "      <td>Gerkhutar</td>\n",
       "      <td>9869759118</td>\n",
       "    </tr>\n",
       "    <tr>\n",
       "      <th>1</th>\n",
       "      <td>2</td>\n",
       "      <td>Bhuwan</td>\n",
       "      <td>25</td>\n",
       "      <td>Dadel</td>\n",
       "      <td>9861111111</td>\n",
       "    </tr>\n",
       "    <tr>\n",
       "      <th>2</th>\n",
       "      <td>3</td>\n",
       "      <td>Sam</td>\n",
       "      <td>24</td>\n",
       "      <td>Dhading</td>\n",
       "      <td>98650422219</td>\n",
       "    </tr>\n",
       "    <tr>\n",
       "      <th>3</th>\n",
       "      <td>4</td>\n",
       "      <td>Ram</td>\n",
       "      <td>45</td>\n",
       "      <td>Bara</td>\n",
       "      <td>9805222222</td>\n",
       "    </tr>\n",
       "    <tr>\n",
       "      <th>4</th>\n",
       "      <td>5</td>\n",
       "      <td>Bab</td>\n",
       "      <td>32</td>\n",
       "      <td>Daaa</td>\n",
       "      <td>98532035200</td>\n",
       "    </tr>\n",
       "  </tbody>\n",
       "</table>\n",
       "</div>"
      ],
      "text/plain": [
       "   sn        name  age        add        phone\n",
       "0   1  Sangharsha   22  Gerkhutar   9869759118\n",
       "1   2      Bhuwan   25      Dadel   9861111111\n",
       "2   3         Sam   24    Dhading  98650422219\n",
       "3   4         Ram   45       Bara   9805222222\n",
       "4   5         Bab   32       Daaa  98532035200"
      ]
     },
     "execution_count": 7,
     "metadata": {},
     "output_type": "execute_result"
    }
   ],
   "source": [
    "import pandas as pd\n",
    "df = pd.read_csv('sanghe.csv')\n",
    "df"
   ]
  },
  {
   "cell_type": "code",
   "execution_count": 9,
   "id": "925f74a0",
   "metadata": {},
   "outputs": [
    {
     "data": {
      "text/html": [
       "<div>\n",
       "<style scoped>\n",
       "    .dataframe tbody tr th:only-of-type {\n",
       "        vertical-align: middle;\n",
       "    }\n",
       "\n",
       "    .dataframe tbody tr th {\n",
       "        vertical-align: top;\n",
       "    }\n",
       "\n",
       "    .dataframe thead th {\n",
       "        text-align: right;\n",
       "    }\n",
       "</style>\n",
       "<table border=\"1\" class=\"dataframe\">\n",
       "  <thead>\n",
       "    <tr style=\"text-align: right;\">\n",
       "      <th></th>\n",
       "      <th>sn</th>\n",
       "      <th>name</th>\n",
       "      <th>age</th>\n",
       "      <th>add</th>\n",
       "      <th>phone</th>\n",
       "    </tr>\n",
       "  </thead>\n",
       "  <tbody>\n",
       "    <tr>\n",
       "      <th>0</th>\n",
       "      <td>1</td>\n",
       "      <td>Sangharsha</td>\n",
       "      <td>22</td>\n",
       "      <td>Gerkhutar</td>\n",
       "      <td>9869759118</td>\n",
       "    </tr>\n",
       "    <tr>\n",
       "      <th>1</th>\n",
       "      <td>2</td>\n",
       "      <td>Bhuwan</td>\n",
       "      <td>25</td>\n",
       "      <td>Dadel</td>\n",
       "      <td>9861111111</td>\n",
       "    </tr>\n",
       "    <tr>\n",
       "      <th>2</th>\n",
       "      <td>3</td>\n",
       "      <td>Sam</td>\n",
       "      <td>24</td>\n",
       "      <td>Dhading</td>\n",
       "      <td>98650422219</td>\n",
       "    </tr>\n",
       "  </tbody>\n",
       "</table>\n",
       "</div>"
      ],
      "text/plain": [
       "   sn        name  age        add        phone\n",
       "0   1  Sangharsha   22  Gerkhutar   9869759118\n",
       "1   2      Bhuwan   25      Dadel   9861111111\n",
       "2   3         Sam   24    Dhading  98650422219"
      ]
     },
     "execution_count": 9,
     "metadata": {},
     "output_type": "execute_result"
    }
   ],
   "source": [
    "df.head(3)"
   ]
  },
  {
   "cell_type": "code",
   "execution_count": 11,
   "id": "65be2e59",
   "metadata": {},
   "outputs": [
    {
     "data": {
      "text/html": [
       "<div>\n",
       "<style scoped>\n",
       "    .dataframe tbody tr th:only-of-type {\n",
       "        vertical-align: middle;\n",
       "    }\n",
       "\n",
       "    .dataframe tbody tr th {\n",
       "        vertical-align: top;\n",
       "    }\n",
       "\n",
       "    .dataframe thead th {\n",
       "        text-align: right;\n",
       "    }\n",
       "</style>\n",
       "<table border=\"1\" class=\"dataframe\">\n",
       "  <thead>\n",
       "    <tr style=\"text-align: right;\">\n",
       "      <th></th>\n",
       "      <th>sn</th>\n",
       "      <th>name</th>\n",
       "      <th>age</th>\n",
       "      <th>add</th>\n",
       "      <th>phone</th>\n",
       "    </tr>\n",
       "  </thead>\n",
       "  <tbody>\n",
       "    <tr>\n",
       "      <th>3</th>\n",
       "      <td>4</td>\n",
       "      <td>Ram</td>\n",
       "      <td>45</td>\n",
       "      <td>Bara</td>\n",
       "      <td>9805222222</td>\n",
       "    </tr>\n",
       "    <tr>\n",
       "      <th>4</th>\n",
       "      <td>5</td>\n",
       "      <td>Bab</td>\n",
       "      <td>32</td>\n",
       "      <td>Daaa</td>\n",
       "      <td>98532035200</td>\n",
       "    </tr>\n",
       "  </tbody>\n",
       "</table>\n",
       "</div>"
      ],
      "text/plain": [
       "   sn name  age   add        phone\n",
       "3   4  Ram   45  Bara   9805222222\n",
       "4   5  Bab   32  Daaa  98532035200"
      ]
     },
     "execution_count": 11,
     "metadata": {},
     "output_type": "execute_result"
    }
   ],
   "source": [
    "df.tail(2)"
   ]
  },
  {
   "cell_type": "code",
   "execution_count": 12,
   "id": "6249b265",
   "metadata": {},
   "outputs": [],
   "source": [
    "#come colon index"
   ]
  },
  {
   "cell_type": "code",
   "execution_count": 13,
   "id": "2769514b",
   "metadata": {},
   "outputs": [
    {
     "data": {
      "text/html": [
       "<div>\n",
       "<style scoped>\n",
       "    .dataframe tbody tr th:only-of-type {\n",
       "        vertical-align: middle;\n",
       "    }\n",
       "\n",
       "    .dataframe tbody tr th {\n",
       "        vertical-align: top;\n",
       "    }\n",
       "\n",
       "    .dataframe thead th {\n",
       "        text-align: right;\n",
       "    }\n",
       "</style>\n",
       "<table border=\"1\" class=\"dataframe\">\n",
       "  <thead>\n",
       "    <tr style=\"text-align: right;\">\n",
       "      <th></th>\n",
       "      <th>name</th>\n",
       "      <th>age</th>\n",
       "      <th>add</th>\n",
       "      <th>phone</th>\n",
       "    </tr>\n",
       "    <tr>\n",
       "      <th>sn</th>\n",
       "      <th></th>\n",
       "      <th></th>\n",
       "      <th></th>\n",
       "      <th></th>\n",
       "    </tr>\n",
       "  </thead>\n",
       "  <tbody>\n",
       "    <tr>\n",
       "      <th>1</th>\n",
       "      <td>Sangharsha</td>\n",
       "      <td>22</td>\n",
       "      <td>Gerkhutar</td>\n",
       "      <td>9869759118</td>\n",
       "    </tr>\n",
       "    <tr>\n",
       "      <th>2</th>\n",
       "      <td>Bhuwan</td>\n",
       "      <td>25</td>\n",
       "      <td>Dadel</td>\n",
       "      <td>9861111111</td>\n",
       "    </tr>\n",
       "    <tr>\n",
       "      <th>3</th>\n",
       "      <td>Sam</td>\n",
       "      <td>24</td>\n",
       "      <td>Dhading</td>\n",
       "      <td>98650422219</td>\n",
       "    </tr>\n",
       "    <tr>\n",
       "      <th>4</th>\n",
       "      <td>Ram</td>\n",
       "      <td>45</td>\n",
       "      <td>Bara</td>\n",
       "      <td>9805222222</td>\n",
       "    </tr>\n",
       "    <tr>\n",
       "      <th>5</th>\n",
       "      <td>Bab</td>\n",
       "      <td>32</td>\n",
       "      <td>Daaa</td>\n",
       "      <td>98532035200</td>\n",
       "    </tr>\n",
       "  </tbody>\n",
       "</table>\n",
       "</div>"
      ],
      "text/plain": [
       "          name  age        add        phone\n",
       "sn                                         \n",
       "1   Sangharsha   22  Gerkhutar   9869759118\n",
       "2       Bhuwan   25      Dadel   9861111111\n",
       "3          Sam   24    Dhading  98650422219\n",
       "4          Ram   45       Bara   9805222222\n",
       "5          Bab   32       Daaa  98532035200"
      ]
     },
     "execution_count": 13,
     "metadata": {},
     "output_type": "execute_result"
    }
   ],
   "source": [
    "import pandas as pd\n",
    "df = pd.read_csv('sanghe.csv',index_col= 'sn')\n",
    "df"
   ]
  },
  {
   "cell_type": "code",
   "execution_count": 16,
   "id": "66819625",
   "metadata": {},
   "outputs": [
    {
     "data": {
      "text/html": [
       "<div>\n",
       "<style scoped>\n",
       "    .dataframe tbody tr th:only-of-type {\n",
       "        vertical-align: middle;\n",
       "    }\n",
       "\n",
       "    .dataframe tbody tr th {\n",
       "        vertical-align: top;\n",
       "    }\n",
       "\n",
       "    .dataframe thead th {\n",
       "        text-align: right;\n",
       "    }\n",
       "</style>\n",
       "<table border=\"1\" class=\"dataframe\">\n",
       "  <thead>\n",
       "    <tr style=\"text-align: right;\">\n",
       "      <th></th>\n",
       "      <th>name</th>\n",
       "      <th>add</th>\n",
       "    </tr>\n",
       "    <tr>\n",
       "      <th>sn</th>\n",
       "      <th></th>\n",
       "      <th></th>\n",
       "    </tr>\n",
       "  </thead>\n",
       "  <tbody>\n",
       "    <tr>\n",
       "      <th>1</th>\n",
       "      <td>Sangharsha</td>\n",
       "      <td>Gerkhutar</td>\n",
       "    </tr>\n",
       "    <tr>\n",
       "      <th>2</th>\n",
       "      <td>Bhuwan</td>\n",
       "      <td>Dadel</td>\n",
       "    </tr>\n",
       "    <tr>\n",
       "      <th>3</th>\n",
       "      <td>Sam</td>\n",
       "      <td>Dhading</td>\n",
       "    </tr>\n",
       "    <tr>\n",
       "      <th>4</th>\n",
       "      <td>Ram</td>\n",
       "      <td>Bara</td>\n",
       "    </tr>\n",
       "    <tr>\n",
       "      <th>5</th>\n",
       "      <td>Bab</td>\n",
       "      <td>Daaa</td>\n",
       "    </tr>\n",
       "  </tbody>\n",
       "</table>\n",
       "</div>"
      ],
      "text/plain": [
       "          name        add\n",
       "sn                       \n",
       "1   Sangharsha  Gerkhutar\n",
       "2       Bhuwan      Dadel\n",
       "3          Sam    Dhading\n",
       "4          Ram       Bara\n",
       "5          Bab       Daaa"
      ]
     },
     "execution_count": 16,
     "metadata": {},
     "output_type": "execute_result"
    }
   ],
   "source": [
    "import pandas as pd\n",
    "cols = ['name','sn','add']\n",
    "df = pd.read_csv('sanghe.csv',index_col = 'sn', usecols = cols)\n",
    "df"
   ]
  },
  {
   "cell_type": "code",
   "execution_count": 17,
   "id": "317255cb",
   "metadata": {},
   "outputs": [
    {
     "data": {
      "text/html": [
       "<div>\n",
       "<style scoped>\n",
       "    .dataframe tbody tr th:only-of-type {\n",
       "        vertical-align: middle;\n",
       "    }\n",
       "\n",
       "    .dataframe tbody tr th {\n",
       "        vertical-align: top;\n",
       "    }\n",
       "\n",
       "    .dataframe thead th {\n",
       "        text-align: right;\n",
       "    }\n",
       "</style>\n",
       "<table border=\"1\" class=\"dataframe\">\n",
       "  <thead>\n",
       "    <tr style=\"text-align: right;\">\n",
       "      <th></th>\n",
       "      <th>name</th>\n",
       "      <th>age</th>\n",
       "      <th>add</th>\n",
       "      <th>phone</th>\n",
       "    </tr>\n",
       "    <tr>\n",
       "      <th>sn</th>\n",
       "      <th></th>\n",
       "      <th></th>\n",
       "      <th></th>\n",
       "      <th></th>\n",
       "    </tr>\n",
       "  </thead>\n",
       "  <tbody>\n",
       "  </tbody>\n",
       "</table>\n",
       "</div>"
      ],
      "text/plain": [
       "Empty DataFrame\n",
       "Columns: [name, age, add, phone]\n",
       "Index: []"
      ]
     },
     "execution_count": 17,
     "metadata": {},
     "output_type": "execute_result"
    }
   ],
   "source": [
    "import pandas as pd\n",
    "df = pd.read_csv('sanghe.csv',index_col = 'sn')\n",
    "df[df['add'] == 'Kathmandu']"
   ]
  },
  {
   "cell_type": "code",
   "execution_count": 19,
   "id": "421b0114",
   "metadata": {},
   "outputs": [
    {
     "data": {
      "text/html": [
       "<div>\n",
       "<style scoped>\n",
       "    .dataframe tbody tr th:only-of-type {\n",
       "        vertical-align: middle;\n",
       "    }\n",
       "\n",
       "    .dataframe tbody tr th {\n",
       "        vertical-align: top;\n",
       "    }\n",
       "\n",
       "    .dataframe thead th {\n",
       "        text-align: right;\n",
       "    }\n",
       "</style>\n",
       "<table border=\"1\" class=\"dataframe\">\n",
       "  <thead>\n",
       "    <tr style=\"text-align: right;\">\n",
       "      <th></th>\n",
       "      <th>name</th>\n",
       "      <th>age</th>\n",
       "      <th>add</th>\n",
       "      <th>phone</th>\n",
       "    </tr>\n",
       "    <tr>\n",
       "      <th>sn</th>\n",
       "      <th></th>\n",
       "      <th></th>\n",
       "      <th></th>\n",
       "      <th></th>\n",
       "    </tr>\n",
       "  </thead>\n",
       "  <tbody>\n",
       "    <tr>\n",
       "      <th>1</th>\n",
       "      <td>Sangharsha</td>\n",
       "      <td>22</td>\n",
       "      <td>Gerkhutar</td>\n",
       "      <td>9869759118</td>\n",
       "    </tr>\n",
       "    <tr>\n",
       "      <th>2</th>\n",
       "      <td>Bhuwan</td>\n",
       "      <td>25</td>\n",
       "      <td>Dadel</td>\n",
       "      <td>9861111111</td>\n",
       "    </tr>\n",
       "    <tr>\n",
       "      <th>3</th>\n",
       "      <td>Sam</td>\n",
       "      <td>24</td>\n",
       "      <td>Dhading</td>\n",
       "      <td>98650422219</td>\n",
       "    </tr>\n",
       "    <tr>\n",
       "      <th>5</th>\n",
       "      <td>Bab</td>\n",
       "      <td>32</td>\n",
       "      <td>Daaa</td>\n",
       "      <td>98532035200</td>\n",
       "    </tr>\n",
       "  </tbody>\n",
       "</table>\n",
       "</div>"
      ],
      "text/plain": [
       "          name  age        add        phone\n",
       "sn                                         \n",
       "1   Sangharsha   22  Gerkhutar   9869759118\n",
       "2       Bhuwan   25      Dadel   9861111111\n",
       "3          Sam   24    Dhading  98650422219\n",
       "5          Bab   32       Daaa  98532035200"
      ]
     },
     "execution_count": 19,
     "metadata": {},
     "output_type": "execute_result"
    }
   ],
   "source": [
    "import pandas as pd\n",
    "df = pd.read_csv('sanghe.csv',index_col='sn')\n",
    "df[df['age']<40]"
   ]
  },
  {
   "cell_type": "code",
   "execution_count": 20,
   "id": "1d5a815d",
   "metadata": {},
   "outputs": [
    {
     "name": "stdout",
     "output_type": "stream",
     "text": [
      "Hello WOrld\n"
     ]
    }
   ],
   "source": [
    "class Hello:\n",
    "    print(\"Hello WOrld\")\n",
    "obj = Hello()"
   ]
  },
  {
   "cell_type": "code",
   "execution_count": 22,
   "id": "5a1f1951",
   "metadata": {},
   "outputs": [
    {
     "ename": "TypeError",
     "evalue": "Hello.hello() takes 0 positional arguments but 1 was given",
     "output_type": "error",
     "traceback": [
      "\u001b[1;31m\u001b[0m",
      "\u001b[1;31mTypeError\u001b[0mTraceback (most recent call last)",
      "Cell \u001b[1;32mIn[22], line 5\u001b[0m\n\u001b[0;32m      3\u001b[0m         \u001b[38;5;28mprint\u001b[39m(\u001b[38;5;124m\"\u001b[39m\u001b[38;5;124mHello World\u001b[39m\u001b[38;5;124m\"\u001b[39m)\n\u001b[0;32m      4\u001b[0m obj \u001b[38;5;241m=\u001b[39m Hello()\n\u001b[1;32m----> 5\u001b[0m \u001b[43mobj\u001b[49m\u001b[38;5;241;43m.\u001b[39;49m\u001b[43mhello\u001b[49m\u001b[43m(\u001b[49m\u001b[43m)\u001b[49m\n",
      "\u001b[1;31mTypeError\u001b[0m: Hello.hello() takes 0 positional arguments but 1 was given"
     ]
    }
   ],
   "source": [
    "class Hello:\n",
    "    def hello():\n",
    "        print(\"Hello World\")\n",
    "obj = Hello()\n",
    "obj.hello()"
   ]
  },
  {
   "cell_type": "code",
   "execution_count": 24,
   "id": "9cc30c38",
   "metadata": {},
   "outputs": [
    {
     "name": "stdout",
     "output_type": "stream",
     "text": [
      "hell\n"
     ]
    }
   ],
   "source": [
    "def hello():\n",
    "    print(\"hell\")\n",
    "hello()"
   ]
  },
  {
   "cell_type": "code",
   "execution_count": 26,
   "id": "1e1f7e44",
   "metadata": {},
   "outputs": [
    {
     "name": "stdout",
     "output_type": "stream",
     "text": [
      "hello World\n"
     ]
    }
   ],
   "source": [
    "class Hello: #class\n",
    "    def hello(self): #method #self chaifunction usw garana\n",
    "        \n",
    "        print(\"hello World\")\n",
    "        \n",
    "obj = Hello()\n",
    "obj.hello()\n"
   ]
  },
  {
   "cell_type": "code",
   "execution_count": 27,
   "id": "5973ed77",
   "metadata": {},
   "outputs": [
    {
     "name": "stdout",
     "output_type": "stream",
     "text": [
      "Enter value of p5\n",
      "Enter b =8\n",
      "Enter r8\n",
      "3.2\n"
     ]
    }
   ],
   "source": [
    "# @staticmethod \n",
    "class Cal:\n",
    "    def cal(self,p,t,r):\n",
    "        i = p*t*r/100\n",
    "        print(i)\n",
    "        \n",
    "p = int(input(\"Enter value of p\"))\n",
    "t = float(input(\"Enter b =\"))\n",
    "r = float(input(\"Enter r\"))\n",
    "obj = Cal()\n",
    "obj.cal(p,t,r)"
   ]
  },
  {
   "cell_type": "code",
   "execution_count": null,
   "id": "e4bba64c",
   "metadata": {},
   "outputs": [],
   "source": [
    "#self == constructoor kunai pani class vitra property or kei banauna paryo vaney reinaializze garna paryo vaney\n",
    "class Cal:\n",
    "    def __init__(self,p,t,r)\n",
    "    def cal(self):\n",
    "        i = p*t*r/100\n",
    "        print(i)\n",
    "        \n",
    "p = int(input(\"Enter value of p\"))\n",
    "t = float(input(\"Enter b =\"))\n",
    "r = float(input(\"Enter r\"))\n",
    "obj = Cal(p,t,r)\n",
    "obj.cal()"
   ]
  }
 ],
 "metadata": {
  "kernelspec": {
   "display_name": "Python 3 (ipykernel)",
   "language": "python",
   "name": "python3"
  },
  "language_info": {
   "codemirror_mode": {
    "name": "ipython",
    "version": 3
   },
   "file_extension": ".py",
   "mimetype": "text/x-python",
   "name": "python",
   "nbconvert_exporter": "python",
   "pygments_lexer": "ipython3",
   "version": "3.10.9"
  }
 },
 "nbformat": 4,
 "nbformat_minor": 5
}
