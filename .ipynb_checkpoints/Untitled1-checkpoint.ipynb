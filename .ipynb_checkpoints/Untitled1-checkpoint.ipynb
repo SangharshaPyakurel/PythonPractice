{
 "cells": [
  {
   "cell_type": "code",
   "execution_count": 1,
   "id": "10aec801",
   "metadata": {},
   "outputs": [
    {
     "name": "stdout",
     "output_type": "stream",
     "text": [
      "welcome to the world of python\n"
     ]
    }
   ],
   "source": [
    "def greet():\n",
    "    print(\"welcome to the world of python\")\n",
    "    \n",
    "greet()"
   ]
  },
  {
   "cell_type": "code",
   "execution_count": 5,
   "id": "8eed72b7",
   "metadata": {},
   "outputs": [
    {
     "name": "stdout",
     "output_type": "stream",
     "text": [
      "5\n"
     ]
    }
   ],
   "source": [
    "def add_two_numbers():\n",
    "    one = 3\n",
    "    two = 2\n",
    "    sum = one + two\n",
    "    print(sum)\n",
    "    \n",
    "add_two_numbers()"
   ]
  },
  {
   "cell_type": "code",
   "execution_count": null,
   "id": "cad210af",
   "metadata": {},
   "outputs": [],
   "source": []
  }
 ],
 "metadata": {
  "kernelspec": {
   "display_name": "Python 3 (ipykernel)",
   "language": "python",
   "name": "python3"
  },
  "language_info": {
   "codemirror_mode": {
    "name": "ipython",
    "version": 3
   },
   "file_extension": ".py",
   "mimetype": "text/x-python",
   "name": "python",
   "nbconvert_exporter": "python",
   "pygments_lexer": "ipython3",
   "version": "3.10.9"
  }
 },
 "nbformat": 4,
 "nbformat_minor": 5
}
